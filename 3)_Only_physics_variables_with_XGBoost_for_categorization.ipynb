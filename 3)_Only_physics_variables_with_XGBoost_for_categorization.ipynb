{
  "nbformat": 4,
  "nbformat_minor": 0,
  "metadata": {
    "colab": {
      "name": "3) Only physics variables with XGBoost for categorization.ipynb",
      "provenance": []
    },
    "kernelspec": {
      "name": "python3",
      "display_name": "Python 3"
    },
    "language_info": {
      "name": "python"
    }
  },
  "cells": [
    {
      "cell_type": "markdown",
      "source": [
        "# Categorização de falhas dos equipmentos a partir das variáveis Físicas e Mecânicas do Equipamento.\n",
        "\n",
        "OBS: O conjunto de dados em formato excel foi previamente codificado e organizado em um notebook anterior.\n",
        "\n",
        "A intensão é de que este notebook contenha em sua maior parte, apenas os códigos pertinentes a construção do modelo XGBoost que irá categorizar as falha.\n"
      ],
      "metadata": {
        "id": "elDco-Ifrz_0"
      }
    },
    {
      "cell_type": "code",
      "execution_count": 1,
      "metadata": {
        "id": "NTifyqPfry5n"
      },
      "outputs": [],
      "source": [
        "# Importação dos pacotes\n",
        "\n",
        "import pandas as pd\n",
        "import matplotlib.pyplot as plt\n",
        "import seaborn as sns\n",
        "import numpy as np"
      ]
    },
    {
      "cell_type": "code",
      "source": [
        "df = pd.read_excel('O_G_Equipment_Data.xlsx')\n",
        "df.head(2)"
      ],
      "metadata": {
        "colab": {
          "base_uri": "https://localhost:8080/",
          "height": 112
        },
        "id": "8cjnWlkrsdFA",
        "outputId": "f3dbc31c-96f6-4d86-971d-de170262cee2"
      },
      "execution_count": 2,
      "outputs": [
        {
          "output_type": "execute_result",
          "data": {
            "text/plain": [
              "   Cycle  Preset_1  Preset_2  Temperature   Pressure  VibrationX  VibrationY  \\\n",
              "0      1         3         6    44.235186  47.657254   46.441769   64.820327   \n",
              "1      2         2         4    60.807234  63.172076   62.005951   80.714431   \n",
              "\n",
              "   VibrationZ  Frequency   Fail  \n",
              "0   66.454520  44.483250  False  \n",
              "1   81.246405  60.228715  False  "
            ],
            "text/html": [
              "\n",
              "  <div id=\"df-3203aeb4-814e-43cf-8a9f-587236043775\">\n",
              "    <div class=\"colab-df-container\">\n",
              "      <div>\n",
              "<style scoped>\n",
              "    .dataframe tbody tr th:only-of-type {\n",
              "        vertical-align: middle;\n",
              "    }\n",
              "\n",
              "    .dataframe tbody tr th {\n",
              "        vertical-align: top;\n",
              "    }\n",
              "\n",
              "    .dataframe thead th {\n",
              "        text-align: right;\n",
              "    }\n",
              "</style>\n",
              "<table border=\"1\" class=\"dataframe\">\n",
              "  <thead>\n",
              "    <tr style=\"text-align: right;\">\n",
              "      <th></th>\n",
              "      <th>Cycle</th>\n",
              "      <th>Preset_1</th>\n",
              "      <th>Preset_2</th>\n",
              "      <th>Temperature</th>\n",
              "      <th>Pressure</th>\n",
              "      <th>VibrationX</th>\n",
              "      <th>VibrationY</th>\n",
              "      <th>VibrationZ</th>\n",
              "      <th>Frequency</th>\n",
              "      <th>Fail</th>\n",
              "    </tr>\n",
              "  </thead>\n",
              "  <tbody>\n",
              "    <tr>\n",
              "      <th>0</th>\n",
              "      <td>1</td>\n",
              "      <td>3</td>\n",
              "      <td>6</td>\n",
              "      <td>44.235186</td>\n",
              "      <td>47.657254</td>\n",
              "      <td>46.441769</td>\n",
              "      <td>64.820327</td>\n",
              "      <td>66.454520</td>\n",
              "      <td>44.483250</td>\n",
              "      <td>False</td>\n",
              "    </tr>\n",
              "    <tr>\n",
              "      <th>1</th>\n",
              "      <td>2</td>\n",
              "      <td>2</td>\n",
              "      <td>4</td>\n",
              "      <td>60.807234</td>\n",
              "      <td>63.172076</td>\n",
              "      <td>62.005951</td>\n",
              "      <td>80.714431</td>\n",
              "      <td>81.246405</td>\n",
              "      <td>60.228715</td>\n",
              "      <td>False</td>\n",
              "    </tr>\n",
              "  </tbody>\n",
              "</table>\n",
              "</div>\n",
              "      <button class=\"colab-df-convert\" onclick=\"convertToInteractive('df-3203aeb4-814e-43cf-8a9f-587236043775')\"\n",
              "              title=\"Convert this dataframe to an interactive table.\"\n",
              "              style=\"display:none;\">\n",
              "        \n",
              "  <svg xmlns=\"http://www.w3.org/2000/svg\" height=\"24px\"viewBox=\"0 0 24 24\"\n",
              "       width=\"24px\">\n",
              "    <path d=\"M0 0h24v24H0V0z\" fill=\"none\"/>\n",
              "    <path d=\"M18.56 5.44l.94 2.06.94-2.06 2.06-.94-2.06-.94-.94-2.06-.94 2.06-2.06.94zm-11 1L8.5 8.5l.94-2.06 2.06-.94-2.06-.94L8.5 2.5l-.94 2.06-2.06.94zm10 10l.94 2.06.94-2.06 2.06-.94-2.06-.94-.94-2.06-.94 2.06-2.06.94z\"/><path d=\"M17.41 7.96l-1.37-1.37c-.4-.4-.92-.59-1.43-.59-.52 0-1.04.2-1.43.59L10.3 9.45l-7.72 7.72c-.78.78-.78 2.05 0 2.83L4 21.41c.39.39.9.59 1.41.59.51 0 1.02-.2 1.41-.59l7.78-7.78 2.81-2.81c.8-.78.8-2.07 0-2.86zM5.41 20L4 18.59l7.72-7.72 1.47 1.35L5.41 20z\"/>\n",
              "  </svg>\n",
              "      </button>\n",
              "      \n",
              "  <style>\n",
              "    .colab-df-container {\n",
              "      display:flex;\n",
              "      flex-wrap:wrap;\n",
              "      gap: 12px;\n",
              "    }\n",
              "\n",
              "    .colab-df-convert {\n",
              "      background-color: #E8F0FE;\n",
              "      border: none;\n",
              "      border-radius: 50%;\n",
              "      cursor: pointer;\n",
              "      display: none;\n",
              "      fill: #1967D2;\n",
              "      height: 32px;\n",
              "      padding: 0 0 0 0;\n",
              "      width: 32px;\n",
              "    }\n",
              "\n",
              "    .colab-df-convert:hover {\n",
              "      background-color: #E2EBFA;\n",
              "      box-shadow: 0px 1px 2px rgba(60, 64, 67, 0.3), 0px 1px 3px 1px rgba(60, 64, 67, 0.15);\n",
              "      fill: #174EA6;\n",
              "    }\n",
              "\n",
              "    [theme=dark] .colab-df-convert {\n",
              "      background-color: #3B4455;\n",
              "      fill: #D2E3FC;\n",
              "    }\n",
              "\n",
              "    [theme=dark] .colab-df-convert:hover {\n",
              "      background-color: #434B5C;\n",
              "      box-shadow: 0px 1px 3px 1px rgba(0, 0, 0, 0.15);\n",
              "      filter: drop-shadow(0px 1px 2px rgba(0, 0, 0, 0.3));\n",
              "      fill: #FFFFFF;\n",
              "    }\n",
              "  </style>\n",
              "\n",
              "      <script>\n",
              "        const buttonEl =\n",
              "          document.querySelector('#df-3203aeb4-814e-43cf-8a9f-587236043775 button.colab-df-convert');\n",
              "        buttonEl.style.display =\n",
              "          google.colab.kernel.accessAllowed ? 'block' : 'none';\n",
              "\n",
              "        async function convertToInteractive(key) {\n",
              "          const element = document.querySelector('#df-3203aeb4-814e-43cf-8a9f-587236043775');\n",
              "          const dataTable =\n",
              "            await google.colab.kernel.invokeFunction('convertToInteractive',\n",
              "                                                     [key], {});\n",
              "          if (!dataTable) return;\n",
              "\n",
              "          const docLinkHtml = 'Like what you see? Visit the ' +\n",
              "            '<a target=\"_blank\" href=https://colab.research.google.com/notebooks/data_table.ipynb>data table notebook</a>'\n",
              "            + ' to learn more about interactive tables.';\n",
              "          element.innerHTML = '';\n",
              "          dataTable['output_type'] = 'display_data';\n",
              "          await google.colab.output.renderOutput(dataTable, element);\n",
              "          const docLink = document.createElement('div');\n",
              "          docLink.innerHTML = docLinkHtml;\n",
              "          element.appendChild(docLink);\n",
              "        }\n",
              "      </script>\n",
              "    </div>\n",
              "  </div>\n",
              "  "
            ]
          },
          "metadata": {},
          "execution_count": 2
        }
      ]
    },
    {
      "cell_type": "code",
      "source": [
        "df.shape"
      ],
      "metadata": {
        "colab": {
          "base_uri": "https://localhost:8080/"
        },
        "id": "6D5fxmNGtb5b",
        "outputId": "a7f8c65f-dee5-4477-eb9d-10217b4cce06"
      },
      "execution_count": 3,
      "outputs": [
        {
          "output_type": "execute_result",
          "data": {
            "text/plain": [
              "(800, 10)"
            ]
          },
          "metadata": {},
          "execution_count": 3
        }
      ]
    },
    {
      "cell_type": "code",
      "source": [
        "# Codificação da feature Fail \n",
        "\n",
        "labels = df['Fail'].astype('category').cat.categories.tolist()\n",
        "replace_Fail = {'Fail': {k: v for k,v in zip(labels,list(range(1,len(labels)+1)))}}\n",
        "\n",
        "print(replace_Fail)"
      ],
      "metadata": {
        "colab": {
          "base_uri": "https://localhost:8080/"
        },
        "id": "NHYwtFCSmOyp",
        "outputId": "30345afc-db6d-4b6f-9b13-858e7649831e"
      },
      "execution_count": 4,
      "outputs": [
        {
          "output_type": "stream",
          "name": "stdout",
          "text": [
            "{'Fail': {False: 1, True: 2}}\n"
          ]
        }
      ]
    },
    {
      "cell_type": "code",
      "source": [
        "# Substituindo os valores tranformados.\n",
        "\n",
        "df.replace(replace_Fail, inplace=True)"
      ],
      "metadata": {
        "id": "fBxdTsRUmOp1"
      },
      "execution_count": 5,
      "outputs": []
    },
    {
      "cell_type": "markdown",
      "source": [
        "## **Machine Learning**\n",
        "\n",
        "### A partir desse ponto será criado um modelo de Gradient Boost Tree, para verificar a possibilidade de categorizar, ordenar as falhas por \"grau de intensidade\"\n",
        "\n"
      ],
      "metadata": {
        "id": "vUrdfyqMz2HY"
      }
    },
    {
      "cell_type": "markdown",
      "source": [
        "## Separação do Treino e Teste \n",
        "\n"
      ],
      "metadata": {
        "id": "4kvaCAz08W1r"
      }
    },
    {
      "cell_type": "code",
      "source": [
        "data = df.copy()\n",
        "data = data.drop(columns={'Cycle','Preset_1',\t'Preset_2'})\n",
        "data.head()"
      ],
      "metadata": {
        "colab": {
          "base_uri": "https://localhost:8080/",
          "height": 206
        },
        "id": "O_EaGAaH8sSY",
        "outputId": "99baaa94-30fc-41f4-f1e7-a971a0cd1f51"
      },
      "execution_count": 6,
      "outputs": [
        {
          "output_type": "execute_result",
          "data": {
            "text/plain": [
              "   Temperature    Pressure  VibrationX  VibrationY  VibrationZ  Frequency  \\\n",
              "0    44.235186   47.657254   46.441769   64.820327   66.454520  44.483250   \n",
              "1    60.807234   63.172076   62.005951   80.714431   81.246405  60.228715   \n",
              "2    79.027536   83.032190   82.642110   98.254386   98.785196  80.993479   \n",
              "3    79.716242  100.508634  122.362321  121.363429  118.652538  80.315567   \n",
              "4    39.989054   51.764833   42.514302   61.037910   50.716469  64.245166   \n",
              "\n",
              "   Fail  \n",
              "0     1  \n",
              "1     1  \n",
              "2     1  \n",
              "3     1  \n",
              "4     1  "
            ],
            "text/html": [
              "\n",
              "  <div id=\"df-068116cb-f993-41f6-8833-9a533678a44d\">\n",
              "    <div class=\"colab-df-container\">\n",
              "      <div>\n",
              "<style scoped>\n",
              "    .dataframe tbody tr th:only-of-type {\n",
              "        vertical-align: middle;\n",
              "    }\n",
              "\n",
              "    .dataframe tbody tr th {\n",
              "        vertical-align: top;\n",
              "    }\n",
              "\n",
              "    .dataframe thead th {\n",
              "        text-align: right;\n",
              "    }\n",
              "</style>\n",
              "<table border=\"1\" class=\"dataframe\">\n",
              "  <thead>\n",
              "    <tr style=\"text-align: right;\">\n",
              "      <th></th>\n",
              "      <th>Temperature</th>\n",
              "      <th>Pressure</th>\n",
              "      <th>VibrationX</th>\n",
              "      <th>VibrationY</th>\n",
              "      <th>VibrationZ</th>\n",
              "      <th>Frequency</th>\n",
              "      <th>Fail</th>\n",
              "    </tr>\n",
              "  </thead>\n",
              "  <tbody>\n",
              "    <tr>\n",
              "      <th>0</th>\n",
              "      <td>44.235186</td>\n",
              "      <td>47.657254</td>\n",
              "      <td>46.441769</td>\n",
              "      <td>64.820327</td>\n",
              "      <td>66.454520</td>\n",
              "      <td>44.483250</td>\n",
              "      <td>1</td>\n",
              "    </tr>\n",
              "    <tr>\n",
              "      <th>1</th>\n",
              "      <td>60.807234</td>\n",
              "      <td>63.172076</td>\n",
              "      <td>62.005951</td>\n",
              "      <td>80.714431</td>\n",
              "      <td>81.246405</td>\n",
              "      <td>60.228715</td>\n",
              "      <td>1</td>\n",
              "    </tr>\n",
              "    <tr>\n",
              "      <th>2</th>\n",
              "      <td>79.027536</td>\n",
              "      <td>83.032190</td>\n",
              "      <td>82.642110</td>\n",
              "      <td>98.254386</td>\n",
              "      <td>98.785196</td>\n",
              "      <td>80.993479</td>\n",
              "      <td>1</td>\n",
              "    </tr>\n",
              "    <tr>\n",
              "      <th>3</th>\n",
              "      <td>79.716242</td>\n",
              "      <td>100.508634</td>\n",
              "      <td>122.362321</td>\n",
              "      <td>121.363429</td>\n",
              "      <td>118.652538</td>\n",
              "      <td>80.315567</td>\n",
              "      <td>1</td>\n",
              "    </tr>\n",
              "    <tr>\n",
              "      <th>4</th>\n",
              "      <td>39.989054</td>\n",
              "      <td>51.764833</td>\n",
              "      <td>42.514302</td>\n",
              "      <td>61.037910</td>\n",
              "      <td>50.716469</td>\n",
              "      <td>64.245166</td>\n",
              "      <td>1</td>\n",
              "    </tr>\n",
              "  </tbody>\n",
              "</table>\n",
              "</div>\n",
              "      <button class=\"colab-df-convert\" onclick=\"convertToInteractive('df-068116cb-f993-41f6-8833-9a533678a44d')\"\n",
              "              title=\"Convert this dataframe to an interactive table.\"\n",
              "              style=\"display:none;\">\n",
              "        \n",
              "  <svg xmlns=\"http://www.w3.org/2000/svg\" height=\"24px\"viewBox=\"0 0 24 24\"\n",
              "       width=\"24px\">\n",
              "    <path d=\"M0 0h24v24H0V0z\" fill=\"none\"/>\n",
              "    <path d=\"M18.56 5.44l.94 2.06.94-2.06 2.06-.94-2.06-.94-.94-2.06-.94 2.06-2.06.94zm-11 1L8.5 8.5l.94-2.06 2.06-.94-2.06-.94L8.5 2.5l-.94 2.06-2.06.94zm10 10l.94 2.06.94-2.06 2.06-.94-2.06-.94-.94-2.06-.94 2.06-2.06.94z\"/><path d=\"M17.41 7.96l-1.37-1.37c-.4-.4-.92-.59-1.43-.59-.52 0-1.04.2-1.43.59L10.3 9.45l-7.72 7.72c-.78.78-.78 2.05 0 2.83L4 21.41c.39.39.9.59 1.41.59.51 0 1.02-.2 1.41-.59l7.78-7.78 2.81-2.81c.8-.78.8-2.07 0-2.86zM5.41 20L4 18.59l7.72-7.72 1.47 1.35L5.41 20z\"/>\n",
              "  </svg>\n",
              "      </button>\n",
              "      \n",
              "  <style>\n",
              "    .colab-df-container {\n",
              "      display:flex;\n",
              "      flex-wrap:wrap;\n",
              "      gap: 12px;\n",
              "    }\n",
              "\n",
              "    .colab-df-convert {\n",
              "      background-color: #E8F0FE;\n",
              "      border: none;\n",
              "      border-radius: 50%;\n",
              "      cursor: pointer;\n",
              "      display: none;\n",
              "      fill: #1967D2;\n",
              "      height: 32px;\n",
              "      padding: 0 0 0 0;\n",
              "      width: 32px;\n",
              "    }\n",
              "\n",
              "    .colab-df-convert:hover {\n",
              "      background-color: #E2EBFA;\n",
              "      box-shadow: 0px 1px 2px rgba(60, 64, 67, 0.3), 0px 1px 3px 1px rgba(60, 64, 67, 0.15);\n",
              "      fill: #174EA6;\n",
              "    }\n",
              "\n",
              "    [theme=dark] .colab-df-convert {\n",
              "      background-color: #3B4455;\n",
              "      fill: #D2E3FC;\n",
              "    }\n",
              "\n",
              "    [theme=dark] .colab-df-convert:hover {\n",
              "      background-color: #434B5C;\n",
              "      box-shadow: 0px 1px 3px 1px rgba(0, 0, 0, 0.15);\n",
              "      filter: drop-shadow(0px 1px 2px rgba(0, 0, 0, 0.3));\n",
              "      fill: #FFFFFF;\n",
              "    }\n",
              "  </style>\n",
              "\n",
              "      <script>\n",
              "        const buttonEl =\n",
              "          document.querySelector('#df-068116cb-f993-41f6-8833-9a533678a44d button.colab-df-convert');\n",
              "        buttonEl.style.display =\n",
              "          google.colab.kernel.accessAllowed ? 'block' : 'none';\n",
              "\n",
              "        async function convertToInteractive(key) {\n",
              "          const element = document.querySelector('#df-068116cb-f993-41f6-8833-9a533678a44d');\n",
              "          const dataTable =\n",
              "            await google.colab.kernel.invokeFunction('convertToInteractive',\n",
              "                                                     [key], {});\n",
              "          if (!dataTable) return;\n",
              "\n",
              "          const docLinkHtml = 'Like what you see? Visit the ' +\n",
              "            '<a target=\"_blank\" href=https://colab.research.google.com/notebooks/data_table.ipynb>data table notebook</a>'\n",
              "            + ' to learn more about interactive tables.';\n",
              "          element.innerHTML = '';\n",
              "          dataTable['output_type'] = 'display_data';\n",
              "          await google.colab.output.renderOutput(dataTable, element);\n",
              "          const docLink = document.createElement('div');\n",
              "          docLink.innerHTML = docLinkHtml;\n",
              "          element.appendChild(docLink);\n",
              "        }\n",
              "      </script>\n",
              "    </div>\n",
              "  </div>\n",
              "  "
            ]
          },
          "metadata": {},
          "execution_count": 6
        }
      ]
    },
    {
      "cell_type": "code",
      "source": [
        "\"\"\"Esse código será a base para comparação com a proporção criada após separação\n",
        "da base de teste e base de treino.\"\"\"\n",
        "\n",
        "df_t = pd.DataFrame(data.Fail.value_counts())\n",
        "\n",
        "status = ['Normal', 'Falha']\n",
        "\n",
        "df_t.insert(loc=1,column='status', value=status)\n",
        "\n",
        "labels = df_t.status\n",
        "colors = ['lightskyblue', 'red']\n",
        "plt.pie(df_t['Fail'], labels= labels, colors=colors, startangle=90, autopct='%.1f%%')\n",
        "plt.show()"
      ],
      "metadata": {
        "colab": {
          "base_uri": "https://localhost:8080/",
          "height": 248
        },
        "id": "YGr8gqJQ4zRA",
        "outputId": "68f3dcb1-9a83-4019-a8d1-97d5e463dd81"
      },
      "execution_count": 7,
      "outputs": [
        {
          "output_type": "display_data",
          "data": {
            "text/plain": [
              "<Figure size 432x288 with 1 Axes>"
            ],
            "image/png": "[encoded data removed]"
          },
          "metadata": {}
        }
      ]
    },
    {
      "cell_type": "code",
      "source": [
        "\"\"\"Separação em TREINO e TESTE\"\"\"\n",
        "\n",
        "seed = 173 # certifica que os dados serão divididos em com o label para teste e treino na mesma proporção.\n",
        "\n",
        "from sklearn.model_selection import train_test_split\n",
        "\n",
        "X = data.loc[:, data.columns != 'Fail']    # ENTRADA, Esse trecho de código remove a coluna a ser definida pelo modelo.\n",
        "Y = data.Fail                              # SAÍDA\n",
        "\n",
        "\n",
        "\"\"\"É nesse trecho de código que é feita a divisão da base de treino e  teste para se fazer a validação do modelo treinado,\n",
        "e que posteriormente será salvo e dedicado em uma pasta específica para que esteja pronto para produção.\"\"\"\n",
        "\n",
        "X_train, X_test, Y_train, Y_test = train_test_split(X, Y, test_size=0.2, \n",
        "                                                    random_state=seed) \n",
        "\n",
        "print('shape input de treino', X_train.shape)\n",
        "print('shape input de teste', X_test.shape)\n",
        "print('shape output de treino', Y_train.shape)\n",
        "print('shape output de teste', Y_test.shape)"
      ],
      "metadata": {
        "colab": {
          "base_uri": "https://localhost:8080/"
        },
        "id": "iOwxd16j5hQ_",
        "outputId": "9290b797-6b48-4f4c-90f7-54e186a61de3"
      },
      "execution_count": 8,
      "outputs": [
        {
          "output_type": "stream",
          "name": "stdout",
          "text": [
            "shape input de treino (640, 6)\n",
            "shape input de teste (160, 6)\n",
            "shape output de treino (640,)\n",
            "shape output de teste (160,)\n"
          ]
        }
      ]
    },
    {
      "cell_type": "code",
      "source": [
        "''' OBS: Verificando as proporções dos valores contido no atributo Fail, após a \n",
        "utilização de uma seed considerada ideal para criação do modelo de ML. '''\n",
        "\n",
        "#TREINO\n",
        "\n",
        "sns.countplot(x=Y_train)\n",
        "plt.title(\"Shape output de treino\")\n",
        "plt.show()\n",
        "\n",
        "Y_train.value_counts()"
      ],
      "metadata": {
        "colab": {
          "base_uri": "https://localhost:8080/",
          "height": 347
        },
        "id": "_BLeeWE766Hq",
        "outputId": "b3638b36-9b49-4881-8065-456c60f53ec2"
      },
      "execution_count": 9,
      "outputs": [
        {
          "output_type": "display_data",
          "data": {
            "text/plain": [
              "<Figure size 432x288 with 1 Axes>"
            ],
            "image/png": "[encoded data removed]"
          },
          "metadata": {
            "needs_background": "light"
          }
        },
        {
          "output_type": "execute_result",
          "data": {
            "text/plain": [
              "1    587\n",
              "2     53\n",
              "Name: Fail, dtype: int64"
            ]
          },
          "metadata": {},
          "execution_count": 9
        }
      ]
    },
    {
      "cell_type": "code",
      "source": [
        "\"\"\"Verificando se a seed utilizada na separação da base de treino e teste está\n",
        "na proporção ideal para o modelo\"\"\"\n",
        "\n",
        "df_train = pd.DataFrame(Y_train.value_counts())\n",
        "\n",
        "status = ['Normal', 'Falha']\n",
        "\n",
        "df_train.insert(loc=1,column='status', value=status)\n",
        "\n",
        "labels = df_train.status\n",
        "colors = ['lightskyblue', 'red']\n",
        "plt.pie(df_train['Fail'], labels= labels, colors=colors, startangle=90, autopct='%.1f%%')\n",
        "plt.show()"
      ],
      "metadata": {
        "colab": {
          "base_uri": "https://localhost:8080/",
          "height": 248
        },
        "id": "ErtyB0Vm7Kpg",
        "outputId": "093d75bc-ceb9-4546-a48a-173be2cfc866"
      },
      "execution_count": 10,
      "outputs": [
        {
          "output_type": "display_data",
          "data": {
            "text/plain": [
              "<Figure size 432x288 with 1 Axes>"
            ],
            "image/png": "[encoded data removed]"
          },
          "metadata": {}
        }
      ]
    },
    {
      "cell_type": "markdown",
      "source": [
        "#### É possível verificar enque a proporção do atributo Fail está bastante similar ao conjunto original de dados, o que nos garante uma boa margem de acurácia durante a criação do modelo classificador.\n",
        "\n",
        "O mesmos será feito para a base de teste."
      ],
      "metadata": {
        "id": "Jw2AjlMS7dda"
      }
    },
    {
      "cell_type": "code",
      "source": [
        "# TESTE\n",
        "\n",
        "sns.countplot(x=Y_test)\n",
        "plt.title(\"Shape output de teste\")\n",
        "plt.show()\n",
        "\n",
        "Y_test.value_counts()"
      ],
      "metadata": {
        "colab": {
          "base_uri": "https://localhost:8080/",
          "height": 347
        },
        "id": "GGO32VEB77Ip",
        "outputId": "c95b4cc7-a2e1-407e-a8ff-8d2f8bfe3d9b"
      },
      "execution_count": 11,
      "outputs": [
        {
          "output_type": "display_data",
          "data": {
            "text/plain": [
              "<Figure size 432x288 with 1 Axes>"
            ],
            "image/png": "[encoded data removed]"
          },
          "metadata": {
            "needs_background": "light"
          }
        },
        {
          "output_type": "execute_result",
          "data": {
            "text/plain": [
              "1    147\n",
              "2     13\n",
              "Name: Fail, dtype: int64"
            ]
          },
          "metadata": {},
          "execution_count": 11
        }
      ]
    },
    {
      "cell_type": "code",
      "source": [
        "df_test = pd.DataFrame(Y_test.value_counts())\n",
        "\n",
        "status = ['Normal', 'Falha']\n",
        "\n",
        "df_test.insert(loc=1,column='status', value=status)\n",
        "\n",
        "labels = df_test.status\n",
        "colors = ['lightskyblue', 'red']\n",
        "plt.pie(df_test['Fail'], labels= labels, colors=colors, startangle=90, autopct='%.1f%%')\n",
        "plt.show()"
      ],
      "metadata": {
        "colab": {
          "base_uri": "https://localhost:8080/",
          "height": 248
        },
        "id": "vsdnGL5F8IVH",
        "outputId": "68ff5cf4-1834-4bb9-ab88-afda34f74539"
      },
      "execution_count": 12,
      "outputs": [
        {
          "output_type": "display_data",
          "data": {
            "text/plain": [
              "<Figure size 432x288 with 1 Axes>"
            ],
            "image/png": "[encoded data removed]"
          },
          "metadata": {}
        }
      ]
    },
    {
      "cell_type": "markdown",
      "source": [
        "## <font color = red> GRADIENT BOOST TREE"
      ],
      "metadata": {
        "id": "8uXU77y4RF0Z"
      }
    },
    {
      "cell_type": "code",
      "source": [
        "''' Importando as bibliotecas necessárias para criação do modelo de ML'''\n",
        "\n",
        "from sklearn.ensemble import GradientBoostingRegressor\n",
        "from sklearn.metrics import mean_squared_error\n",
        "from sklearn.metrics import mean_absolute_error"
      ],
      "metadata": {
        "id": "hnsalxUhRFPT"
      },
      "execution_count": 13,
      "outputs": []
    },
    {
      "cell_type": "code",
      "source": [
        "'''Construindo o modelo de ML com a função do SKLearn.\n",
        "\n",
        "Todas a modificações e aprimorações no modelo desem ser feitas nesse trecho\n",
        "de código, utilizando a biblioteca referente para aprimorar as métricas\n",
        "do modelo. '''\n",
        "\n",
        "regressor = GradientBoostingRegressor(\n",
        "    max_depth=2,       # referente ao número de \"folhas\" por árvore.\n",
        "    n_estimators=2,    # referente ao quantidade de árvores por conjunto\n",
        "    learning_rate=1.0  # hiperparametriza (escolhe os mehores valores) em um range determinado.\n",
        ")\n",
        "regressor.fit(X_train, Y_train)"
      ],
      "metadata": {
        "colab": {
          "base_uri": "https://localhost:8080/"
        },
        "id": "kQZsquRhRFH6",
        "outputId": "8280ce0a-6529-4032-a41e-16d4a28f3089"
      },
      "execution_count": 14,
      "outputs": [
        {
          "output_type": "execute_result",
          "data": {
            "text/plain": [
              "GradientBoostingRegressor(learning_rate=1.0, max_depth=2, n_estimators=2)"
            ]
          },
          "metadata": {},
          "execution_count": 14
        }
      ]
    },
    {
      "cell_type": "code",
      "source": [
        "''' Esse código irá medir a validação de cada erro (média quadrática do erro) encontrado \n",
        "durante a construção do modelo e a partir dessa medição encontrar o número ótimo de árvores \n",
        "para que o modelo esteja o mais preciso possível.'''\n",
        "\n",
        "errors = [mean_squared_error(Y_test, Y_pred) for Y_pred in regressor.staged_predict(X_test)]\n",
        "best_n_estimators = np.argmin(errors)"
      ],
      "metadata": {
        "id": "shcJte6wRFBl"
      },
      "execution_count": 15,
      "outputs": []
    },
    {
      "cell_type": "code",
      "source": [
        "# Modelo sendo reconstruindo com os melhores valores selecionados após os erros serem \"corrigidos\".\n",
        "\n",
        "best_regressor = GradientBoostingRegressor(\n",
        "    max_depth=2,\n",
        "    n_estimators=best_n_estimators,\n",
        "    learning_rate=1.0\n",
        ")\n",
        "best_regressor.fit(X_train, Y_train)"
      ],
      "metadata": {
        "colab": {
          "base_uri": "https://localhost:8080/"
        },
        "id": "XHHRCGbZRE5m",
        "outputId": "727560d6-357d-4735-f46f-2b681232b6f2"
      },
      "execution_count": 16,
      "outputs": [
        {
          "output_type": "execute_result",
          "data": {
            "text/plain": [
              "GradientBoostingRegressor(learning_rate=1.0, max_depth=2, n_estimators=1)"
            ]
          },
          "metadata": {},
          "execution_count": 16
        }
      ]
    },
    {
      "cell_type": "code",
      "source": [
        "'''Verificando a média absoluta de erros que o modelo gerou ao tentar classificar\n",
        "os labels definidos'''\n",
        "\n",
        "Y_pred = best_regressor.predict(X_test)\n",
        "mean_absolute_error(Y_test, Y_pred)"
      ],
      "metadata": {
        "colab": {
          "base_uri": "https://localhost:8080/"
        },
        "id": "D_dKYACXRExY",
        "outputId": "34e3c578-65ab-46ce-8d23-46f5f2f6b85d"
      },
      "execution_count": 17,
      "outputs": [
        {
          "output_type": "execute_result",
          "data": {
            "text/plain": [
              "0.12178592064714959"
            ]
          },
          "metadata": {},
          "execution_count": 17
        }
      ]
    },
    {
      "cell_type": "markdown",
      "source": [
        "### NORMALIZAÇÃO"
      ],
      "metadata": {
        "id": "PngE64hJRYzI"
      }
    },
    {
      "cell_type": "code",
      "source": [
        "'''Utilizando uma das técnicas de normalização para proporcionar uma otimização\n",
        "extra no modelo criado.'''\n",
        "\n",
        "from sklearn.preprocessing import StandardScaler\n",
        "\n",
        "scaler = StandardScaler().fit(X_train)\n",
        "X_train = scaler.transform(X_train)\n",
        "X_test = scaler.transform(X_test)"
      ],
      "metadata": {
        "id": "RJgAnf-2REow"
      },
      "execution_count": 18,
      "outputs": []
    },
    {
      "cell_type": "code",
      "source": [
        "# Verificando o quanto de melhora foi gerada após a normalização.\n",
        "\n",
        "Y_pred = best_regressor.predict(X_test)\n",
        "mean_absolute_error(Y_test, Y_pred)"
      ],
      "metadata": {
        "colab": {
          "base_uri": "https://localhost:8080/"
        },
        "id": "psbYfys-RWDk",
        "outputId": "9f50f080-4a7d-4fa8-b276-22b87cf27bfa"
      },
      "execution_count": 19,
      "outputs": [
        {
          "output_type": "stream",
          "name": "stderr",
          "text": [
            "/usr/local/lib/python3.7/dist-packages/sklearn/base.py:451: UserWarning: X does not have valid feature names, but GradientBoostingRegressor was fitted with feature names\n",
            "  \"X does not have valid feature names, but\"\n"
          ]
        },
        {
          "output_type": "execute_result",
          "data": {
            "text/plain": [
              "0.09189618644067812"
            ]
          },
          "metadata": {},
          "execution_count": 19
        }
      ]
    },
    {
      "cell_type": "code",
      "source": [
        "import pickle\n",
        "pickle.dump(best_regressor, open('model_GBT.sav', 'wb'))"
      ],
      "metadata": {
        "id": "hVuFcLlnRV-F"
      },
      "execution_count": 20,
      "outputs": []
    }
  ]
}